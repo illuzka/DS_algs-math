{
 "cells": [
  {
   "cell_type": "code",
   "execution_count": 199,
   "metadata": {},
   "outputs": [],
   "source": [
    "import pandas as pd\n",
    "import numpy as np\n",
    "import seaborn as sns\n",
    "import math\n",
    "from sklearn.linear_model import LogisticRegression\n",
    "from sklearn.metrics import mean_squared_error\n",
    "import warnings\n",
    "warnings.filterwarnings('ignore')"
   ]
  },
  {
   "cell_type": "code",
   "execution_count": 36,
   "metadata": {},
   "outputs": [
    {
     "data": {
      "text/html": [
       "<div>\n",
       "<style scoped>\n",
       "    .dataframe tbody tr th:only-of-type {\n",
       "        vertical-align: middle;\n",
       "    }\n",
       "\n",
       "    .dataframe tbody tr th {\n",
       "        vertical-align: top;\n",
       "    }\n",
       "\n",
       "    .dataframe thead th {\n",
       "        text-align: right;\n",
       "    }\n",
       "</style>\n",
       "<table border=\"1\" class=\"dataframe\">\n",
       "  <thead>\n",
       "    <tr style=\"text-align: right;\">\n",
       "      <th></th>\n",
       "      <th>studied</th>\n",
       "      <th>slept</th>\n",
       "      <th>passed</th>\n",
       "    </tr>\n",
       "  </thead>\n",
       "  <tbody>\n",
       "    <tr>\n",
       "      <th>0</th>\n",
       "      <td>4.85</td>\n",
       "      <td>9.63</td>\n",
       "      <td>1</td>\n",
       "    </tr>\n",
       "    <tr>\n",
       "      <th>1</th>\n",
       "      <td>8.62</td>\n",
       "      <td>3.23</td>\n",
       "      <td>0</td>\n",
       "    </tr>\n",
       "    <tr>\n",
       "      <th>2</th>\n",
       "      <td>5.43</td>\n",
       "      <td>8.23</td>\n",
       "      <td>1</td>\n",
       "    </tr>\n",
       "    <tr>\n",
       "      <th>3</th>\n",
       "      <td>9.21</td>\n",
       "      <td>6.34</td>\n",
       "      <td>0</td>\n",
       "    </tr>\n",
       "  </tbody>\n",
       "</table>\n",
       "</div>"
      ],
      "text/plain": [
       "   studied  slept  passed\n",
       "0     4.85   9.63       1\n",
       "1     8.62   3.23       0\n",
       "2     5.43   8.23       1\n",
       "3     9.21   6.34       0"
      ]
     },
     "execution_count": 36,
     "metadata": {},
     "output_type": "execute_result"
    }
   ],
   "source": [
    "df = pd.DataFrame({\n",
    "    'studied': [4.85, 8.62, 5.43, 9.21],\n",
    "    'slept': [9.63,3.23,8.23,6.34],\n",
    "    'passed': [1,0,1,0]\n",
    " \n",
    "})\n",
    "df"
   ]
  },
  {
   "cell_type": "markdown",
   "metadata": {},
   "source": [
    "#### Sigmoid"
   ]
  },
  {
   "cell_type": "code",
   "execution_count": 34,
   "metadata": {},
   "outputs": [
    {
     "data": {
      "text/plain": [
       "0.7310585786300049"
      ]
     },
     "execution_count": 34,
     "metadata": {},
     "output_type": "execute_result"
    }
   ],
   "source": [
    "def sig(n):\n",
    "    return 1/(1+np.exp(-n))\n",
    "sig(1)"
   ]
  },
  {
   "cell_type": "code",
   "execution_count": 53,
   "metadata": {},
   "outputs": [
    {
     "data": {
      "text/plain": [
       "0    0.610164\n",
       "1    0.546119\n",
       "2    0.590492\n",
       "3    0.635295\n",
       "dtype: float64"
      ]
     },
     "execution_count": 53,
     "metadata": {},
     "output_type": "execute_result"
    }
   ],
   "source": [
    "# p >= 0.5, class 1\n",
    "# p < 0.5, class 0\n",
    "\n",
    "w0 = -1\n",
    "w1 = .1\n",
    "w2 = .1\n",
    "\n",
    "pred = w0 + df['studied']*w1 + df['slept']*w2\n",
    "pred_sig = pred.apply(lambda x: sig(x))\n",
    "pred_sig"
   ]
  },
  {
   "cell_type": "markdown",
   "metadata": {},
   "source": [
    "#### Cost function.\n",
    "#### Cross-entropy / Log Loss"
   ]
  },
  {
   "cell_type": "code",
   "execution_count": 75,
   "metadata": {},
   "outputs": [
    {
     "data": {
      "text/plain": [
       "0.635659983301235"
      ]
     },
     "execution_count": 75,
     "metadata": {},
     "output_type": "execute_result"
    }
   ],
   "source": [
    "w0 = -1\n",
    "w1 = -.1\n",
    "w2 = .1\n",
    "\n",
    "def cost(w0, w1, w2):    \n",
    "    pred = w0 + df['studied']*w1 + df['slept']*w2\n",
    "    labels = df['passed']\n",
    "    pred_sig = pred.apply(lambda x: sig(x))\n",
    "    \n",
    "    return (-labels*np.log(pred_sig) - (1-labels)*np.log(1-pred_sig)).sum() / len(df['passed'])\n",
    "    \n",
    "    \n",
    "cost(w0, w1, w2)    "
   ]
  },
  {
   "cell_type": "markdown",
   "metadata": {},
   "source": [
    "#### Gradient Descent\n",
    "\n",
    "$$ C = x(s(z) - y)  $$"
   ]
  },
  {
   "cell_type": "code",
   "execution_count": 193,
   "metadata": {
    "scrolled": false
   },
   "outputs": [
    {
     "data": {
      "image/png": "[encoded data removed]",
      "text/plain": [
       "<Figure size 432x288 with 1 Axes>"
      ]
     },
     "metadata": {
      "needs_background": "light"
     },
     "output_type": "display_data"
    }
   ],
   "source": [
    "w0 = 1.12\n",
    "w1 = 1\n",
    "w2 = 1\n",
    "ler_rate = .01\n",
    "cost_hist = []\n",
    "\n",
    "\n",
    "for i in range(300):\n",
    "    pred = w0 + df['studied']*w1 + df['slept']*w2\n",
    "#     pred_sig = pred.apply(lambda x: sig(x))\n",
    "    \n",
    "    gradient = np.dot(df[['studied', 'slept']].T,  pred - df['passed'])\n",
    "    gradient /= len(df['studied'])\n",
    "    gradient *= ler_rate\n",
    "\n",
    "    w1 -= gradient[0]\n",
    "    w2 -= gradient[1]\n",
    "    \n",
    "    cost_hist.append(cost(w0, w1, w2))    \n",
    "      \n",
    "ax = sns.lineplot(x=np.linspace(1, len(cost_hist), len(cost_hist)), y=cost_hist);\n",
    "ax.set(xlabel='iterations', ylabel='cost');"
   ]
  },
  {
   "cell_type": "code",
   "execution_count": 194,
   "metadata": {
    "scrolled": true
   },
   "outputs": [
    {
     "data": {
      "text/plain": [
       "(1.12, -0.16564075238933887, 0.07845113779553592)"
      ]
     },
     "execution_count": 194,
     "metadata": {},
     "output_type": "execute_result"
    }
   ],
   "source": [
    "w0, w1, w2"
   ]
  },
  {
   "cell_type": "code",
   "execution_count": 195,
   "metadata": {},
   "outputs": [
    {
     "data": {
      "text/html": [
       "<div>\n",
       "<style scoped>\n",
       "    .dataframe tbody tr th:only-of-type {\n",
       "        vertical-align: middle;\n",
       "    }\n",
       "\n",
       "    .dataframe tbody tr th {\n",
       "        vertical-align: top;\n",
       "    }\n",
       "\n",
       "    .dataframe thead th {\n",
       "        text-align: right;\n",
       "    }\n",
       "</style>\n",
       "<table border=\"1\" class=\"dataframe\">\n",
       "  <thead>\n",
       "    <tr style=\"text-align: right;\">\n",
       "      <th></th>\n",
       "      <th>studied</th>\n",
       "      <th>slept</th>\n",
       "      <th>passed</th>\n",
       "      <th>pred</th>\n",
       "    </tr>\n",
       "  </thead>\n",
       "  <tbody>\n",
       "    <tr>\n",
       "      <th>0</th>\n",
       "      <td>4.85</td>\n",
       "      <td>9.63</td>\n",
       "      <td>1</td>\n",
       "      <td>1</td>\n",
       "    </tr>\n",
       "    <tr>\n",
       "      <th>1</th>\n",
       "      <td>8.62</td>\n",
       "      <td>3.23</td>\n",
       "      <td>0</td>\n",
       "      <td>0</td>\n",
       "    </tr>\n",
       "    <tr>\n",
       "      <th>2</th>\n",
       "      <td>5.43</td>\n",
       "      <td>8.23</td>\n",
       "      <td>1</td>\n",
       "      <td>1</td>\n",
       "    </tr>\n",
       "    <tr>\n",
       "      <th>3</th>\n",
       "      <td>9.21</td>\n",
       "      <td>6.34</td>\n",
       "      <td>0</td>\n",
       "      <td>1</td>\n",
       "    </tr>\n",
       "  </tbody>\n",
       "</table>\n",
       "</div>"
      ],
      "text/plain": [
       "   studied  slept  passed  pred\n",
       "0     4.85   9.63       1     1\n",
       "1     8.62   3.23       0     0\n",
       "2     5.43   8.23       1     1\n",
       "3     9.21   6.34       0     1"
      ]
     },
     "execution_count": 195,
     "metadata": {},
     "output_type": "execute_result"
    }
   ],
   "source": [
    "def boundaries(x):\n",
    "    return 1 if x >= .5 else 0\n",
    "\n",
    "df['pred'] = sig(w0 + df['studied']*w1 + df['slept']*w2).map(boundaries)\n",
    "df"
   ]
  },
  {
   "cell_type": "code",
   "execution_count": 196,
   "metadata": {},
   "outputs": [
    {
     "data": {
      "text/plain": [
       "('accuracy: ', 0.75)"
      ]
     },
     "execution_count": 196,
     "metadata": {},
     "output_type": "execute_result"
    }
   ],
   "source": [
    "diff = df['pred'] - df['passed']\n",
    "accuracy = 1 - (np.count_nonzero(diff) / 4)\n",
    "'accuracy: ', accuracy"
   ]
  },
  {
   "cell_type": "code",
   "execution_count": 201,
   "metadata": {},
   "outputs": [
    {
     "data": {
      "text/plain": [
       "1.0"
      ]
     },
     "execution_count": 201,
     "metadata": {},
     "output_type": "execute_result"
    }
   ],
   "source": [
    "x = df[['slept', 'studied']].values\n",
    "y = df['passed'].ravel().reshape(-1,1)\n",
    "logreg = LogisticRegression().fit(x,y)\n",
    "logreg.score(x,y)"
   ]
  }
 ],
 "metadata": {
  "kernelspec": {
   "display_name": "Python 3",
   "language": "python",
   "name": "python3"
  },
  "language_info": {
   "codemirror_mode": {
    "name": "ipython",
    "version": 3
   },
   "file_extension": ".py",
   "mimetype": "text/x-python",
   "name": "python",
   "nbconvert_exporter": "python",
   "pygments_lexer": "ipython3",
   "version": "3.6.5"
  }
 },
 "nbformat": 4,
 "nbformat_minor": 4
}

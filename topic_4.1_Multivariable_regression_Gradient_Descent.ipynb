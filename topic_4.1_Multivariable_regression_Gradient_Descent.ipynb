{
 "cells": [
  {
   "cell_type": "code",
   "execution_count": 1,
   "metadata": {},
   "outputs": [],
   "source": [
    "import pandas as pd\n",
    "import numpy as np\n",
    "import seaborn as sns\n",
    "import math\n",
    "from sklearn.linear_model import LinearRegression\n",
    "from sklearn.metrics import mean_squared_error"
   ]
  },
  {
   "cell_type": "code",
   "execution_count": 147,
   "metadata": {},
   "outputs": [
    {
     "data": {
      "text/html": [
       "<div>\n",
       "<style scoped>\n",
       "    .dataframe tbody tr th:only-of-type {\n",
       "        vertical-align: middle;\n",
       "    }\n",
       "\n",
       "    .dataframe tbody tr th {\n",
       "        vertical-align: top;\n",
       "    }\n",
       "\n",
       "    .dataframe thead th {\n",
       "        text-align: right;\n",
       "    }\n",
       "</style>\n",
       "<table border=\"1\" class=\"dataframe\">\n",
       "  <thead>\n",
       "    <tr style=\"text-align: right;\">\n",
       "      <th></th>\n",
       "      <th>Company</th>\n",
       "      <th>TV</th>\n",
       "      <th>Radio</th>\n",
       "      <th>News</th>\n",
       "      <th>Units</th>\n",
       "      <th>Bias</th>\n",
       "    </tr>\n",
       "  </thead>\n",
       "  <tbody>\n",
       "    <tr>\n",
       "      <th>0</th>\n",
       "      <td>Amazon</td>\n",
       "      <td>230</td>\n",
       "      <td>37</td>\n",
       "      <td>69</td>\n",
       "      <td>22</td>\n",
       "      <td>1</td>\n",
       "    </tr>\n",
       "    <tr>\n",
       "      <th>1</th>\n",
       "      <td>Google</td>\n",
       "      <td>44</td>\n",
       "      <td>39</td>\n",
       "      <td>23</td>\n",
       "      <td>10</td>\n",
       "      <td>1</td>\n",
       "    </tr>\n",
       "    <tr>\n",
       "      <th>2</th>\n",
       "      <td>Facebook</td>\n",
       "      <td>17</td>\n",
       "      <td>45</td>\n",
       "      <td>34</td>\n",
       "      <td>18</td>\n",
       "      <td>1</td>\n",
       "    </tr>\n",
       "    <tr>\n",
       "      <th>3</th>\n",
       "      <td>Apple</td>\n",
       "      <td>151</td>\n",
       "      <td>41</td>\n",
       "      <td>13</td>\n",
       "      <td>18</td>\n",
       "      <td>1</td>\n",
       "    </tr>\n",
       "  </tbody>\n",
       "</table>\n",
       "</div>"
      ],
      "text/plain": [
       "    Company   TV  Radio  News  Units  Bias\n",
       "0    Amazon  230     37    69     22     1\n",
       "1    Google   44     39    23     10     1\n",
       "2  Facebook   17     45    34     18     1\n",
       "3     Apple  151     41    13     18     1"
      ]
     },
     "execution_count": 147,
     "metadata": {},
     "output_type": "execute_result"
    }
   ],
   "source": [
    "df = pd.DataFrame({'Company': ['Amazon','Google','Facebook','Apple'], \n",
    "                    'TV': [230,44,17,151], \n",
    "                    'Radio': [37,39,45,41], \n",
    "                    'News': [69,23,34,13], \n",
    "                    'Units': [22,10,18,18],\n",
    "                    'Bias': [1,1,1,1]\n",
    "                  })   \n",
    "df"
   ]
  },
  {
   "cell_type": "markdown",
   "metadata": {},
   "source": [
    "#### Normalization\n"
   ]
  },
  {
   "cell_type": "code",
   "execution_count": 18,
   "metadata": {},
   "outputs": [
    {
     "data": {
      "text/html": [
       "<div>\n",
       "<style scoped>\n",
       "    .dataframe tbody tr th:only-of-type {\n",
       "        vertical-align: middle;\n",
       "    }\n",
       "\n",
       "    .dataframe tbody tr th {\n",
       "        vertical-align: top;\n",
       "    }\n",
       "\n",
       "    .dataframe thead th {\n",
       "        text-align: right;\n",
       "    }\n",
       "</style>\n",
       "<table border=\"1\" class=\"dataframe\">\n",
       "  <thead>\n",
       "    <tr style=\"text-align: right;\">\n",
       "      <th></th>\n",
       "      <th>Company</th>\n",
       "      <th>TV</th>\n",
       "      <th>Radio</th>\n",
       "      <th>News</th>\n",
       "      <th>Units</th>\n",
       "    </tr>\n",
       "  </thead>\n",
       "  <tbody>\n",
       "    <tr>\n",
       "      <th>0</th>\n",
       "      <td>Amazon</td>\n",
       "      <td>0.561033</td>\n",
       "      <td>-0.4375</td>\n",
       "      <td>0.611607</td>\n",
       "      <td>22</td>\n",
       "    </tr>\n",
       "    <tr>\n",
       "      <th>1</th>\n",
       "      <td>Google</td>\n",
       "      <td>-0.312207</td>\n",
       "      <td>-0.1875</td>\n",
       "      <td>-0.209821</td>\n",
       "      <td>10</td>\n",
       "    </tr>\n",
       "    <tr>\n",
       "      <th>2</th>\n",
       "      <td>Facebook</td>\n",
       "      <td>-0.438967</td>\n",
       "      <td>0.5625</td>\n",
       "      <td>-0.013393</td>\n",
       "      <td>18</td>\n",
       "    </tr>\n",
       "    <tr>\n",
       "      <th>3</th>\n",
       "      <td>Apple</td>\n",
       "      <td>0.190141</td>\n",
       "      <td>0.0625</td>\n",
       "      <td>-0.388393</td>\n",
       "      <td>18</td>\n",
       "    </tr>\n",
       "  </tbody>\n",
       "</table>\n",
       "</div>"
      ],
      "text/plain": [
       "    Company        TV   Radio      News  Units\n",
       "0    Amazon  0.561033 -0.4375  0.611607     22\n",
       "1    Google -0.312207 -0.1875 -0.209821     10\n",
       "2  Facebook -0.438967  0.5625 -0.013393     18\n",
       "3     Apple  0.190141  0.0625 -0.388393     18"
      ]
     },
     "execution_count": 18,
     "metadata": {},
     "output_type": "execute_result"
    }
   ],
   "source": [
    "def normalize(feature):\n",
    "    rng = df[feature].max() - df[feature].min()\n",
    "    mean = df[feature].mean()    \n",
    "    return df[feature].apply(lambda x: (x-mean)/rng)\n",
    "   \n",
    "df['TV'] = normalize('TV')\n",
    "df['Radio'] = normalize('Radio')\n",
    "df['News'] = normalize('News')\n",
    "df"
   ]
  },
  {
   "cell_type": "markdown",
   "metadata": {},
   "source": [
    " #### Predict function\n"
   ]
  },
  {
   "cell_type": "code",
   "execution_count": 148,
   "metadata": {},
   "outputs": [
    {
     "data": {
      "text/plain": [
       "6811"
      ]
     },
     "execution_count": 148,
     "metadata": {},
     "output_type": "execute_result"
    }
   ],
   "source": [
    "w1 = 25\n",
    "w2 = 10\n",
    "w3 = 10\n",
    "\n",
    "x1 = df['TV'].iloc[0]\n",
    "x2 = df['Radio'].iloc[0]\n",
    "x3 = df['News'].iloc[0]\n",
    "b = df['Bias'].iloc[0]\n",
    "                     \n",
    "y = w1*x1 + w2*x2 + w3*x3 + b\n",
    "y"
   ]
  },
  {
   "cell_type": "markdown",
   "metadata": {},
   "source": [
    "#### Cost function (MSE):\n",
    "$$ 1/2n \\sum (y - (w1x1 + w2x2 + w3x3))^2 $$"
   ]
  },
  {
   "cell_type": "code",
   "execution_count": 149,
   "metadata": {},
   "outputs": [
    {
     "data": {
      "text/plain": [
       "945.2975000000001"
      ]
     },
     "execution_count": 149,
     "metadata": {},
     "output_type": "execute_result"
    }
   ],
   "source": [
    "w1 = .1\n",
    "w2 = .4\n",
    "w3 = .8\n",
    "\n",
    "def mse(w1, w2, w3):\n",
    "    pred = df['TV']*w1 + df['Radio']*w2 + df['News']*w3 + df['Bias']\n",
    "    sq_err = (df['Units']-pred)**2\n",
    "    return (1/(2*len(df['Units']))) * sq_err.sum()\n",
    "\n",
    "mse(w1, w2, w3)    "
   ]
  },
  {
   "cell_type": "markdown",
   "metadata": {},
   "source": [
    "#### Gradient Descent"
   ]
  },
  {
   "cell_type": "code",
   "execution_count": 161,
   "metadata": {},
   "outputs": [
    {
     "name": "stdout",
     "output_type": "stream",
     "text": [
      "5.9714819221026785\n"
     ]
    },
    {
     "data": {
      "image/png": "[encoded data removed]",
      "text/plain": [
       "<Figure size 432x288 with 1 Axes>"
      ]
     },
     "metadata": {
      "needs_background": "light"
     },
     "output_type": "display_data"
    }
   ],
   "source": [
    "w1 = .1\n",
    "w2 = .4\n",
    "w3 = .8\n",
    "\n",
    "mse_hist = []\n",
    "\n",
    "for i in range(500):     \n",
    "    target = df['Units']\n",
    "    ler_rate = .00001\n",
    "    pred = df['TV']*w1 + df['Radio']*w2 + df['News']*w3 + df['Bias']\n",
    "    \n",
    "    d_w1 = ler_rate*np.mean(-df['TV']*(target-pred))\n",
    "    d_w2 = ler_rate*np.mean(-df['Radio']*(target-pred))\n",
    "    d_w3 = ler_rate*np.mean(-df['News']*(target-pred))\n",
    "    \n",
    "    w1 -= d_w1\n",
    "    w2 -= d_w2\n",
    "    w3 -= d_w3\n",
    "    \n",
    "    mse_hist.append(mse(w1, w2, w3))\n",
    "\n",
    "\n",
    "print(mse(w1, w2, w3))\n",
    "\n",
    "ax = sns.lineplot(x=np.linspace(1,max(mse_hist), len(mse_hist)), y=mse_hist);\n",
    "ax.set(xlabel='Iterations', ylabel='MSE');"
   ]
  },
  {
   "cell_type": "code",
   "execution_count": 162,
   "metadata": {},
   "outputs": [
    {
     "data": {
      "text/plain": [
       "('weights: ', 0.012863805629199174, 0.1761046097514764, 0.2076119019692644)"
      ]
     },
     "execution_count": 162,
     "metadata": {},
     "output_type": "execute_result"
    }
   ],
   "source": [
    "\"weights: \", w1, w2, w3"
   ]
  },
  {
   "cell_type": "markdown",
   "metadata": {},
   "source": [
    "#### Prediction: "
   ]
  },
  {
   "cell_type": "code",
   "execution_count": 164,
   "metadata": {},
   "outputs": [
    {
     "data": {
      "text/plain": [
       "23.79976709139968"
      ]
     },
     "execution_count": 164,
     "metadata": {},
     "output_type": "execute_result"
    }
   ],
   "source": [
    "y = 230*w1 + 37*w2 + 69*w3\n",
    "y"
   ]
  }
 ],
 "metadata": {
  "kernelspec": {
   "display_name": "Python 3",
   "language": "python",
   "name": "python3"
  },
  "language_info": {
   "codemirror_mode": {
    "name": "ipython",
    "version": 3
   },
   "file_extension": ".py",
   "mimetype": "text/x-python",
   "name": "python",
   "nbconvert_exporter": "python",
   "pygments_lexer": "ipython3",
   "version": "3.6.5"
  }
 },
 "nbformat": 4,
 "nbformat_minor": 4
}
